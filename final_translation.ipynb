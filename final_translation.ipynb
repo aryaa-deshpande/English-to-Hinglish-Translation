{
 "cells": [
  {
   "cell_type": "code",
   "execution_count": 9,
   "metadata": {},
   "outputs": [],
   "source": [
    "from googletrans import Translator\n",
    "from words import word\n",
    "\n",
    "def translate_text(text, target_language='hi'):\n",
    "    translator = Translator()\n",
    "    translated = translator.translate(text, dest=target_language)\n",
    "    return translated.text if translated else text\n",
    "\n"
   ]
  },
  {
   "cell_type": "code",
   "execution_count": 10,
   "metadata": {},
   "outputs": [
    {
     "name": "stdout",
     "output_type": "stream",
     "text": [
      "Original: mai apne bag ke liye wait kar raha tha\n",
      "Translated: मई अपने bag लिए इंतज़ार कौन अगर था\n"
     ]
    }
   ],
   "source": [
    "# English sentence given : I was waiting for my bag\n",
    "# Hinglish sentence after translation from the model : mai apne bag ke liye wait kar raha tha\n",
    "# Translating to Hinglish with hindi text \n",
    "original_text = \"mai apne bag ke liye wait kar raha tha\"\n",
    "new = original_text.split(\" \")\n",
    "translated_tokens = []\n",
    "\n",
    "for i in new :\n",
    "    try:\n",
    "        if i not in word :\n",
    "            translated_text = translate_text(i, target_language='hi')\n",
    "            translated_tokens.append(translated_text)\n",
    "        else :\n",
    "            translated_tokens.append(i)\n",
    "        \n",
    "    except Exception as e:\n",
    "        continue\n",
    "    \n",
    "    \n",
    "translated_sentence = ' '.join(translated_tokens)\n",
    "\n",
    "print(f\"Original: {original_text}\")\n",
    "print(f\"Translated: {translated_sentence}\")\n"
   ]
  },
  {
   "cell_type": "code",
   "execution_count": 11,
   "metadata": {},
   "outputs": [
    {
     "name": "stdout",
     "output_type": "stream",
     "text": [
      "Original: To if it's a big video, mai sabhi productions ke baare mein badal kar jaunga\n",
      "Translated: को if it's a big वीडियो, मई सभी productions पता लगाना मीन बादल कौन जाऊंगा\n"
     ]
    }
   ],
   "source": [
    "# English sentence given : So even if it's a big video, I will clearly mention all the products\n",
    "# Hinglish sentence after translation from the model : To if it's a big video, mai sabhi productions ke baare mein badal kar jaunga\n",
    "# Translating to Hinglish with hindi text \n",
    "original_text = \"To if it's a big video, mai sabhi productions ke baare mein badal kar jaunga\"\n",
    "new = original_text.split(\" \")\n",
    "translated_tokens = []\n",
    "\n",
    "for i in new :\n",
    "    try:\n",
    "        if i not in word :\n",
    "            translated_text = translate_text(i, target_language='hi')\n",
    "            translated_tokens.append(translated_text)\n",
    "        else :\n",
    "            translated_tokens.append(i)\n",
    "        \n",
    "    except Exception as e:\n",
    "        continue\n",
    "    \n",
    "    \n",
    "translated_sentence = ' '.join(translated_tokens)\n",
    "\n",
    "print(f\"Original: {original_text}\")\n",
    "print(f\"Translated: {translated_sentence}\")\n"
   ]
  },
  {
   "cell_type": "code",
   "execution_count": 12,
   "metadata": {},
   "outputs": [
    {
     "name": "stdout",
     "output_type": "stream",
     "text": [
      "Original: sabse aapke suition section mein share kare\n",
      "Translated: सबसे आपके शरारत करना अनुभाग मीन share रक्षा करना\n"
     ]
    }
   ],
   "source": [
    "# English sentence given : Definitely share your feedback in the comment section\n",
    "# Hinglish sentence after translation from the model : sabse aapke suition section mein share kare\n",
    "# Translating to Hinglish with hindi text \n",
    "original_text = \"sabse aapke suition section mein share kare\"\n",
    "new = original_text.split(\" \")\n",
    "translated_tokens = []\n",
    "\n",
    "for i in new :\n",
    "    try:\n",
    "        if i not in word :\n",
    "            translated_text = translate_text(i, target_language='hi')\n",
    "            translated_tokens.append(translated_text)\n",
    "        else :\n",
    "            translated_tokens.append(i)\n",
    "        \n",
    "    except Exception as e:\n",
    "        continue\n",
    "    \n",
    "    \n",
    "translated_sentence = ' '.join(translated_tokens)\n",
    "\n",
    "print(f\"Original: {original_text}\")\n",
    "print(f\"Translated: {translated_sentence}\")"
   ]
  }
 ],
 "metadata": {
  "kernelspec": {
   "display_name": "Python 3",
   "language": "python",
   "name": "python3"
  },
  "language_info": {
   "codemirror_mode": {
    "name": "ipython",
    "version": 3
   },
   "file_extension": ".py",
   "mimetype": "text/x-python",
   "name": "python",
   "nbconvert_exporter": "python",
   "pygments_lexer": "ipython3",
   "version": "3.9.0"
  }
 },
 "nbformat": 4,
 "nbformat_minor": 2
}
